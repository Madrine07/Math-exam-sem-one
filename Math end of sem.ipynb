{
 "cells": [
  {
   "cell_type": "markdown",
   "id": "756318ab-930d-4152-be68-270439f3f628",
   "metadata": {},
   "source": [
    "# REG NO.\n",
    "2024/DSC/0083/SS\n",
    "\n",
    "# STUDENT NUMBER\n",
    "24401127"
   ]
  },
  {
   "cell_type": "markdown",
   "id": "d185e762-36f5-413b-a45a-ebaf98f620bb",
   "metadata": {},
   "source": [
    "# QUESTION FIVE"
   ]
  },
  {
   "cell_type": "markdown",
   "id": "5e96f86f-9c1b-4c6a-a4f3-bce3d431984d",
   "metadata": {},
   "source": [
    "# i)"
   ]
  },
  {
   "cell_type": "code",
   "execution_count": 1,
   "id": "7b3a6f9e-5946-4800-b5ce-6907db1650e6",
   "metadata": {},
   "outputs": [],
   "source": [
    "import numpy as np"
   ]
  },
  {
   "cell_type": "code",
   "execution_count": 2,
   "id": "82e5a9e2-1d06-4157-8079-dc451d8cb0c2",
   "metadata": {},
   "outputs": [
    {
     "name": "stdout",
     "output_type": "stream",
     "text": [
      "[[1.  0.2 0.5]\n",
      " [0.2 1.  0.8]\n",
      " [0.5 0.8 1. ]]\n"
     ]
    }
   ],
   "source": [
    "B = np.array([[1.0, 0.2, 0.5], [0.2, 1.0, 0.8], [0.5, 0.8, 1.0]])\n",
    "print(B)"
   ]
  },
  {
   "cell_type": "code",
   "execution_count": 3,
   "id": "30e15f45-4f51-41ad-b82c-e8a52d7cf71f",
   "metadata": {},
   "outputs": [
    {
     "name": "stdout",
     "output_type": "stream",
     "text": [
      "[[1.  0.2 0.5]\n",
      " [0.2 1.  0.8]\n",
      " [0.5 0.8 1. ]]\n"
     ]
    }
   ],
   "source": [
    "transpose = B.T\n",
    "print(transpose)"
   ]
  },
  {
   "cell_type": "markdown",
   "id": "30786897-a7a1-43ca-9365-697df17e1b9d",
   "metadata": {},
   "source": [
    "# ii)"
   ]
  },
  {
   "cell_type": "code",
   "execution_count": 4,
   "id": "e02ccbac-b404-4571-a43f-1866ec825953",
   "metadata": {},
   "outputs": [
    {
     "name": "stdout",
     "output_type": "stream",
     "text": [
      "0.2299999999999999\n"
     ]
    }
   ],
   "source": [
    "det_B = np.linalg.det(B)\n",
    "print(det_B)                          # Printing the determinant"
   ]
  },
  {
   "cell_type": "markdown",
   "id": "6e0ff1b3-9582-4952-9423-c053786a3f64",
   "metadata": {},
   "source": [
    "# iii)"
   ]
  },
  {
   "cell_type": "code",
   "execution_count": 5,
   "id": "51f15dc0-c931-404a-af17-9e8b86a71cb4",
   "metadata": {},
   "outputs": [
    {
     "name": "stdout",
     "output_type": "stream",
     "text": [
      "Eigenvalues: [2.04100779 0.82188052 0.13711169]\n",
      "Eigenvectors: [[-0.43721717 -0.85359707 -0.28321933]\n",
      " [-0.59931898  0.51133314 -0.61591816]\n",
      " [-0.67056536  0.09955128  0.73514055]]\n"
     ]
    }
   ],
   "source": [
    "eigenvalues, eigenvectors = np.linalg.eig(B)\n",
    "\n",
    "print(\"Eigenvalues:\", eigenvalues)\n",
    "print(\"Eigenvectors:\", eigenvectors)"
   ]
  },
  {
   "cell_type": "markdown",
   "id": "34261519-0e4b-4cc7-95d5-8949030667c2",
   "metadata": {},
   "source": [
    "# iv)"
   ]
  },
  {
   "cell_type": "code",
   "execution_count": 6,
   "id": "e8900f27-1105-4cc4-8317-4d6da56fc4d0",
   "metadata": {},
   "outputs": [
    {
     "name": "stdout",
     "output_type": "stream",
     "text": [
      "[3 3]\n"
     ]
    }
   ],
   "source": [
    "# Trasnforming the matrix means making changes to the matrix.\n",
    "# resizing changes the shape of the array or matrix to the desired one in the parantheses.\n",
    "B_resized = np.resize(3,2)\n",
    "print(B_resized)"
   ]
  },
  {
   "cell_type": "code",
   "execution_count": 7,
   "id": "7f541cb3-1447-4c47-9972-30cecc4d41bb",
   "metadata": {},
   "outputs": [
    {
     "name": "stdout",
     "output_type": "stream",
     "text": [
      "[1.  0.2 0.5 0.2 1.  0.8 0.5 0.8 1. ]\n"
     ]
    }
   ],
   "source": [
    "# Changing the matrix or array into a flat or 1 dimensional array\n",
    "flat_array = B.flatten()\n",
    "print(flat_array)"
   ]
  },
  {
   "cell_type": "markdown",
   "id": "d00e91a3-9847-466c-88ea-105d3381b340",
   "metadata": {},
   "source": [
    "# QUESTION SIX"
   ]
  },
  {
   "cell_type": "markdown",
   "id": "39401536-279e-4cc4-9e0e-ba7f90f45622",
   "metadata": {},
   "source": [
    "# i)"
   ]
  },
  {
   "cell_type": "code",
   "execution_count": 8,
   "id": "22d5b436-e62b-4f69-a14d-5ac7ca7e30db",
   "metadata": {},
   "outputs": [],
   "source": [
    "from numpy import random"
   ]
  },
  {
   "cell_type": "code",
   "execution_count": 9,
   "id": "710eded3-aeb7-438d-8269-ff2793c447b3",
   "metadata": {},
   "outputs": [
    {
     "name": "stdout",
     "output_type": "stream",
     "text": [
      "[ 6  4  8  8  3  4  5 12  3  7  3  4  4  3  7  2  7  5  6  4  3  6 10  4\n",
      "  6  9  5  5  5  5  6  8  6  7  4  6  6  5  6  1  1  2  5  3  0  6  8  6\n",
      "  4  1  4  2  4  6  8  7  7  4  5  7  4  6  4  2  7  3  6  6  5  3  8  5\n",
      "  5  2  2  1  4  6 10  6  3  3  2  8  3  2  8  8  7  3  5  3  4  3  9  4\n",
      "  5  6  5  2  2  8  3  4  4  3  1  1 10  1  6  5  2 10  2  5  5  1  2  6\n",
      "  6  6  5  4  2  6  6  6  5  5  5  3  5  5  1  3  2  4  2  6  6  4  5  6\n",
      "  3  2  3  6  7  4  7  6  7  5  3  4  4  9  3 10  4  6  0  5  4  3  3  3\n",
      "  5  5  4  3  7  3  6 11  8  7  6  3  5  6  4  5  5  6  5  4  5  5  7  3\n",
      "  3  2  4  6  8  5  3  2  2  4  4  1  7  4  3  9  7  6  4  4 11  5  3  7\n",
      "  5  5  7  2  5  5  3  2  7  5  8  2  3  4  3  5  4  4  3  2  8  3 10  5\n",
      "  6  4  1  2  3  6  7  4  3  4  4  2  3  5  3  7  5  3  2  3  7  5  5  3\n",
      "  6  4  7  9  5  5  4  6  5  5  4  8  4 11  6  7  3  2  6  3  3  5  3  5\n",
      "  3  4  3  4  5  3  2  9  2  9  5  5  5  5  1  9  6  6  4  4  7  4  5  5\n",
      "  8 12  8  6  2  4  5  6  9  2  7  2  5  4  2  7  1  2  9  7  5  4  6  0\n",
      "  3  7  5  7  8  5  7  2  8  6  3  5  9  3  7  2  6  6  5  8  3  6  4  8\n",
      "  3  8  3  6  9  8  3  6  5  7  8  6  7  7  4  2  6  3  3  2  5  5  4  1\n",
      "  3  4  5  7  7  9  5  2  8  5  5  1  5  6  3  6 10  6  4  4  4  7  2  7\n",
      "  7  5  4  1  6  3  5  5  2  3  7  8  6  7  8  6  4  6  8  7  6 11  3  6\n",
      "  5  6  5  6  7  5  5  5  6  5  9  4  1  5  4  6  3  4  2  3  9  3  5 10\n",
      "  1  5  3  3  5  4  2  7  4  9  5  5  8  3  7  8  4  7  7  5 10  2  6  4\n",
      "  7  6  1  4  5  3  5  7  4  6  6  6  6  6  6  9  2  4  8  7  2  5  6  6\n",
      "  5 10  8  4  5 10  3  5  4  7  5  6  4  4  5  5  6  3  5  6  3  7  4  4\n",
      "  4  2  4  3  2  4  8  5  3  5  4  6  5 11  5  3  4  3  3  6  2  7  4  8\n",
      "  5  7  4  8  3  4  4  5  9  2  5  5  9  3  4  4  6  3  5 10  9  7  7  6\n",
      "  5  3  5  4  3  6  5  2  5  7  4  7  2  3  4  6  6  6  8  5  4  4  5  1\n",
      "  4  4  2  4  3  4  7  4  4  4  8  5  4  6  5  4  9  3  6  7  4  6  5  4\n",
      "  3 11  0  7  6  9  3  2  5  7 10  2  9  6  5  5  7  5  3  3  8  7  3  9\n",
      "  1  2  2  7 11  3  4  6  2  7  7  4  5  8  7  7  5  5  6  5  4  2  4  5\n",
      "  7  4 10  5 10  7  6  6  2  3  5  7  8  9 11  6  3  0  5  5  5  5  8  1\n",
      "  5  6  3  7  4  6  6  3  7  6  7  3 10  5  4  4  7  4  3  4  6  6  2  1\n",
      "  2  7  7  6  7  1  1  3  3 10  1  3  5  5  2  7  4  2  6  6  4  5  4  4\n",
      "  6  5 11  6  6  3  7  3  6  6  9  7  3  9  5  3  5  7  4  7  2  3  6  3\n",
      "  6 13  3  7  5  7  3  4  4  4  6  3  5 13  5  8  8  2  3  7  5  6  7  6\n",
      "  8  6  3  4  3  4  8  8  5  2  5  1  7 11  6  6  3  5  2  4  2  7  3  6\n",
      "  5  9  7  5  6  5  2  2  7  7  7  6  5  5  8  7  4  6  4  3  4  2  3  5\n",
      "  2  4  5  5  6  2  4  4  2  2  6  5  3  5  2  5  4  4  7  6  5  3  7  6\n",
      "  7  6  4  4  3  6  3  4  4  5  3  5  3  3  2  2  3  8  6  4  2  6  5  4\n",
      "  6  2  6  5  6  4  4  6  4 10  9  3  5  5  6  1  1  4  7  2  4  4  4  2\n",
      "  5  4  3  2  9  6  3  3  3  9  7  7  3  1  3  9  5  1  6  3  6  4  8  9\n",
      "  3  7  5  7  6  2  6  4  3  8  8  5  4  6  4  7  4 12  5  4  7  6  5  5\n",
      "  6  3  5  3  2  7  1  5  6  6  4  4  6  3  3  5  4  5  4  3  4  7  8  4\n",
      "  5  1  7  5  8  5  3  3  6 11  5  6  5  6  4  4]\n"
     ]
    }
   ],
   "source": [
    "x = random.poisson(lam=5, size =1000)   # where lam represents the 5 customers that appear each day\n",
    "print (x)"
   ]
  },
  {
   "cell_type": "markdown",
   "id": "47b5c7af-6295-4d73-9887-2e87d5539544",
   "metadata": {},
   "source": [
    "# ii)"
   ]
  },
  {
   "cell_type": "code",
   "execution_count": 10,
   "id": "13271b33-a878-422f-90e3-0c4ef1126967",
   "metadata": {},
   "outputs": [
    {
     "name": "stdout",
     "output_type": "stream",
     "text": [
      "4.986\n"
     ]
    }
   ],
   "source": [
    "mean = x.mean()\n",
    "print(mean)"
   ]
  },
  {
   "cell_type": "code",
   "execution_count": 11,
   "id": "2bcf1349-3d02-400e-998b-d7bf6755c89a",
   "metadata": {},
   "outputs": [
    {
     "name": "stdout",
     "output_type": "stream",
     "text": [
      "4.897804\n"
     ]
    }
   ],
   "source": [
    "variance = x.var()\n",
    "print(variance)"
   ]
  },
  {
   "cell_type": "markdown",
   "id": "e6cab13c-d894-484c-acdd-b0463235280e",
   "metadata": {},
   "source": [
    "# iii)"
   ]
  },
  {
   "cell_type": "code",
   "execution_count": 12,
   "id": "99461468-1b9c-4175-a5ee-0254c91ec7bf",
   "metadata": {},
   "outputs": [],
   "source": [
    "import matplotlib.pyplot as plt\n",
    "import seaborn as sns"
   ]
  },
  {
   "cell_type": "code",
   "execution_count": 13,
   "id": "5a1e6dbf-88d5-4bd5-8192-460f30fe4033",
   "metadata": {},
   "outputs": [
    {
     "data": {
      "image/png": "[encoded data removed]",
      "text/plain": [
       "<Figure size 640x480 with 1 Axes>"
      ]
     },
     "metadata": {},
     "output_type": "display_data"
    }
   ],
   "source": [
    "sns.histplot(x,  kde=False, color='blue')\n",
    "plt.xlabel('Number of successes')\n",
    "plt.ylabel('Frequencies')\n",
    "plt.title(\"Visualisation of poisson data of x\")\n",
    "plt.show()"
   ]
  },
  {
   "cell_type": "code",
   "execution_count": null,
   "id": "ba3c7d12-a201-4eef-9883-d5216483cf83",
   "metadata": {},
   "outputs": [],
   "source": []
  },
  {
   "cell_type": "code",
   "execution_count": null,
   "id": "d547b7ee-dc8c-4b8e-9e87-6ec41d1be2a6",
   "metadata": {},
   "outputs": [],
   "source": []
  }
 ],
 "metadata": {
  "kernelspec": {
   "display_name": "Python 3 (ipykernel)",
   "language": "python",
   "name": "python3"
  },
  "language_info": {
   "codemirror_mode": {
    "name": "ipython",
    "version": 3
   },
   "file_extension": ".py",
   "mimetype": "text/x-python",
   "name": "python",
   "nbconvert_exporter": "python",
   "pygments_lexer": "ipython3",
   "version": "3.12.5"
  }
 },
 "nbformat": 4,
 "nbformat_minor": 5
}
